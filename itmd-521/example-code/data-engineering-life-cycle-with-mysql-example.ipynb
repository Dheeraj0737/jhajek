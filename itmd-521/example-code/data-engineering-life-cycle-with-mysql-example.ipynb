{
 "cells": [
  {
   "cell_type": "code",
   "execution_count": null,
   "metadata": {},
   "outputs": [],
   "source": [
    "from pyspark import SparkConf\n",
    "from pyspark.sql import SparkSession\n",
    "\n",
    "# Removing hard coded password - using os module & open to import them from creds.txt file\n",
    "import os\n",
    "import sys\n",
    "\n",
    "# Your job run a data cleaning code below for 00.txt 10.txt 20.txt ....   200.txt and 210.txt\n",
    "\n",
    "try:\n",
    "    creds_file = (open(f\"/home/{os.getenv('USER')}/creds.txt\", \"r\")).read().strip().split(\",\")\n",
    "    accesskey,secretkey = creds_file[0],creds_file[1]\n",
    "except:\n",
    "    print(\"File not found, you can't access minio\")\n",
    "    accesskey,secretkey = \"\",\"\"\n",
    "\n",
    "# code to retrieve credentials from creds-mysql.txt\n",
    "\n",
    "try:\n",
    "    mysql_creds_file = (open(f\"/home/{os.getenv('USER')}/creds-mysql.txt\", \"r\")).read().strip().split(\",\")\n",
    "    mysqlaccesskey,mysqlsecretkey = mysql_creds_file[0],mysql_creds_file[1]\n",
    "except:\n",
    "    print(\"File not found, you can't access the mysql server...\")\n",
    "    mysqlaccesskey,mysqlsecretkey = \"\",\"\"\n",
    "\n",
    "\n",
    "conf = SparkConf()\n",
    "conf.set('spark.jars.packages', 'org.apache.hadoop:hadoop-aws:3.2.3,com.mysql:mysql-connector-j:8.3.0')\n",
    "conf.set('spark.hadoop.fs.s3a.aws.credentials.provider', 'org.apache.hadoop.fs.s3a.SimpleAWSCredentialsProvider')\n",
    "\n",
    "conf.set('spark.hadoop.fs.s3a.access.key', accesskey)\n",
    "conf.set('spark.hadoop.fs.s3a.secret.key', secretkey)\n",
    "# Configure these settings\n",
    "# https://medium.com/@dineshvarma.guduru/reading-and-writing-data-from-to-minio-using-spark-8371aefa96d2\n",
    "conf.set(\"spark.hadoop.fs.s3a.path.style.access\", \"true\")\n",
    "conf.set(\"spark.hadoop.fs.s3a.impl\", \"org.apache.hadoop.fs.s3a.S3AFileSystem\")\n",
    "# https://github.com/minio/training/blob/main/spark/taxi-data-writes.py\n",
    "# https://spot.io/blog/improve-apache-spark-performance-with-the-s3-magic-committer/\n",
    "conf.set('spark.hadoop.fs.s3a.committer.magic.enabled','true')\n",
    "conf.set('spark.hadoop.fs.s3a.committer.name','magic')\n",
    "# Internal IP for S3 cluster proxy\n",
    "conf.set(\"spark.hadoop.fs.s3a.endpoint\", \"http://system54.rice.iit.edu\")\n",
    "# Send jobs to the Spark Cluster\n",
    "conf.setMaster(\"spark://sm.service.consul:7077\")\n",
    "#Configuration Documentation Link\n",
    "#https://spark.apache.org/docs/latest/configuration.html\n",
    "# Set driver memory\n",
    "conf.set(\"spark.driver.memory\",\"4g\")\n",
    "# Set memory request per executor\n",
    "conf.set(\"spark.executor.memory\",\"4g\")\n",
    "# Set number of cores per executor to 1\n",
    "conf.set(\"spark.executor.cores\",\"1\")\n",
    "# Set number of cores total max per job\n",
    "conf.set(\"spark.cores.max\",\"12\")\n",
    "\n",
    "spark = SparkSession.builder.appName(\"Your App Name\")\\\n",
    "    .config('spark.driver.host','spark-edge.service.consul').config(conf=conf).getOrCreate()"
   ]
  },
  {
   "cell_type": "code",
   "execution_count": null,
   "metadata": {},
   "outputs": [],
   "source": [
    "# sample code from createDataFrame\n",
    "# https://spark.apache.org/docs/latest/api/python/reference/pyspark.sql/api/pyspark.sql.SparkSession.createDataFrame.html\n",
    "d = [{'name': 'Alice', 'age': 1}]\n",
    "spark.createDataFrame(d).printSchema()\n"
   ]
  },
  {
   "cell_type": "code",
   "execution_count": null,
   "metadata": {},
   "outputs": [],
   "source": [
    "# Syntax to WRITE out dataframe to MySQL server from Module 7 assignment\n",
    "# Replace \"hajek\" variable with your HAWKID, otherwise the database doesn't know where to create the table\n",
    "\n",
    "(exampledf.write.format(\"jdbc\").option(\"url\",\"jdbc:mysql://infra-database-vm0.service.consul:3306/hajek\").option(\"driver\",\"com.mysql.cj.jdbc.Driver\").option(\"dbtable\",\"exampledf\").option(\"user\",mysqlaccesskey).option(\"password\",mysqlsecretkey).save())"
   ]
  },
  {
   "cell_type": "code",
   "execution_count": null,
   "metadata": {},
   "outputs": [],
   "source": [
    "# Last line required to release the Spark resources after finished executing\n",
    "\n",
    "### It is recommended that you restart the kernel once you stop the session before starting a new session by clicking restart kernel situated right of stop button (or) from kernel menu, as it clears all the cached variables.\n",
    "\n",
    "spark.stop()\n"
   ]
  }
 ],
 "metadata": {
  "language_info": {
   "name": "python"
  }
 },
 "nbformat": 4,
 "nbformat_minor": 2
}
